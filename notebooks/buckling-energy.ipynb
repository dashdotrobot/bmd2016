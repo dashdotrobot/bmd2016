{
 "cells": [
  {
   "cell_type": "markdown",
   "metadata": {},
   "source": [
    "# Buckling tension for spoked wheel"
   ]
  },
  {
   "cell_type": "code",
   "execution_count": 1,
   "metadata": {
    "collapsed": false
   },
   "outputs": [],
   "source": [
    "from sympy import *\n",
    "init_printing()\n",
    "\n",
    "# setup symbols\n",
    "s = symbols('s', real=true)\n",
    "n = symbols('n', integer=true, positive=true)\n",
    "\n",
    "u_n, phi_n = symbols('u_n phi_n', real=true)\n",
    "\n",
    "# rim properties\n",
    "R, EI, GJ, EIw, mu, rx, ry, y0 = symbols('R EI GJ EIw mu rx ry y0',\n",
    "                                         real=true, finite=true,\n",
    "                                         positive=true)\n",
    "\n",
    "# spoke properties\n",
    "ns = symbols('n_s', integer=true, positive=true)\n",
    "T, EA, ls, alpha = symbols('T, EA, l_s, alpha', real=true, positive=true)\n",
    "k_uu_el, k_uu_T = symbols('k_uu^el, k_uu^T', real=true)\n",
    "k_uu = k_uu_el + T*k_uu_T"
   ]
  },
  {
   "cell_type": "markdown",
   "metadata": {},
   "source": [
    "# Kinematics\n",
    "Assume sinusoidal buckling mode shape and calculate curvatures"
   ]
  },
  {
   "cell_type": "code",
   "execution_count": 2,
   "metadata": {
    "collapsed": false
   },
   "outputs": [],
   "source": [
    "u = u_n * cos(n*s/R)\n",
    "phi = phi_n * cos(n*s/R)\n",
    "\n",
    "k2 = diff(u, s, s) - phi/R\n",
    "k3 = diff(phi, s) + diff(u, s)/R"
   ]
  },
  {
   "cell_type": "markdown",
   "metadata": {},
   "source": [
    "## Total potential energy\n",
    "Total potential energy equals strain energy minus virtual work"
   ]
  },
  {
   "cell_type": "code",
   "execution_count": 3,
   "metadata": {
    "collapsed": false
   },
   "outputs": [
    {
     "data": {
      "image/png": "[encoded data removed]",
      "text/latex": [
       "$$\\frac{EI}{2} \\left(\\frac{\\pi \\phi_{n}^{2}}{R} + \\frac{2 \\pi}{R^{2}} n^{2} \\phi_{n} u_{n} + \\frac{\\pi u_{n}^{2}}{R^{3}} n^{4}\\right) + \\frac{\\pi GJ_{t} n^{2}}{2 R^{3}} \\left(R^{2} \\phi_{n}^{2} + 2 R \\phi_{n} u_{n} + u_{n}^{2}\\right) + \\frac{\\pi R}{2} u_{n}^{2} \\left(T k^{T}_{uu} + k^{el}_{uu}\\right) - \\frac{T n^{2} n_{s} u_{n}^{2}}{4 R}$$"
      ],
      "text/plain": [
       "   ⎛     2        2              4    2⎞                                      \n",
       "   ⎜π⋅φ_n    2⋅π⋅n ⋅φ_n⋅u_n   π⋅n ⋅u_n ⎟                                      \n",
       "EI⋅⎜────── + ────────────── + ─────────⎟                                      \n",
       "   ⎜  R             2              3   ⎟           2 ⎛ 2    2                 \n",
       "   ⎝               R              R    ⎠   π⋅GJ_t⋅n ⋅⎝R ⋅φ_n  + 2⋅R⋅φ_n⋅u_n + \n",
       "──────────────────────────────────────── + ───────────────────────────────────\n",
       "                   2                                            3             \n",
       "                                                             2⋅R              \n",
       "\n",
       "                                                       \n",
       "                                                       \n",
       "                                                       \n",
       "   2⎞          2                             2        2\n",
       "u_n ⎠   π⋅R⋅u_n ⋅(T⋅k_uu__T + k_uu__el)   T⋅n ⋅n_s⋅u_n \n",
       "───── + ─────────────────────────────── - ─────────────\n",
       "                       2                       4⋅R     \n",
       "                                                       "
      ]
     },
     "execution_count": 3,
     "metadata": {},
     "output_type": "execute_result"
    }
   ],
   "source": [
    "# Rim strain energy\n",
    "U_bend = integrate((EI*k2**2)/2, (s, 0, 2*pi*R))\n",
    "U_GJ = integrate((GJ*k3**2)/2, (s, 0, 2*pi*R))\n",
    "U_EIw = integrate((EIw*diff(k3, s)**2)/2, (s, 0, 2*pi*R))\n",
    "\n",
    "# Combine uniform torsion and warping into a single mode-dependent stiffness\n",
    "GJt = symbols('GJ_t', real=true)\n",
    "U_tors = (U_GJ + U_EIw).simplify().subs(EIw*n**2+GJ*R**2, GJt*R**2)\n",
    "\n",
    "# Spoke strain energy\n",
    "U_spokes = integrate(k_uu*u**2/2, (s, 0, 2*pi*R))\n",
    "\n",
    "# Rim virtual work\n",
    "N_rim = ns*T/(2*pi)\n",
    "V_rim = integrate(N_rim/2 * diff(u, s)**2, (s, 0, 2*pi*R))\n",
    "\n",
    "PE_total = U_bend + U_tors + U_spokes - V_rim\n",
    "PE_total"
   ]
  },
  {
   "cell_type": "markdown",
   "metadata": {},
   "source": [
    "## Buckling criterion\n",
    "The total potential energy can be written in a quadratic form:\n",
    "\n",
    "$\\Pi_{total} = q \\cdot K \\cdot q$\n",
    "\n",
    "where $q = (u_n, \\phi_n)$ and $K$ is a Jacobian matrix. The $n$th mode becomes unstable when the determinant of the Jacobian vanishes."
   ]
  },
  {
   "cell_type": "code",
   "execution_count": 4,
   "metadata": {
    "collapsed": false
   },
   "outputs": [
    {
     "data": {
      "image/png": "[encoded data removed]",
      "text/latex": [
       "$$\\frac{\\pi}{R} \\left(EI + GJ_{t} n^{2}\\right) \\left(\\frac{\\pi EI}{R^{3}} n^{4} + \\frac{\\pi GJ_{t}}{R^{3}} n^{2} + \\pi R \\left(T k^{T}_{uu} + k^{el}_{uu}\\right) - \\frac{T n^{2} n_{s}}{2 R}\\right) - \\frac{\\pi^{2} n^{4}}{R^{4}} \\left(EI + GJ_{t}\\right)^{2} = 0$$"
      ],
      "text/plain": [
       "                 ⎛      4           2                                   2    ⎞\n",
       "  ⎛           2⎞ ⎜π⋅EI⋅n    π⋅GJ_t⋅n                                 T⋅n ⋅n_s⎟\n",
       "π⋅⎝EI + GJ_t⋅n ⎠⋅⎜─────── + ───────── + π⋅R⋅(T⋅k_uu__T + k_uu__el) - ────────⎟\n",
       "                 ⎜    3          3                                     2⋅R   ⎟\n",
       "                 ⎝   R          R                                            ⎠\n",
       "──────────────────────────────────────────────────────────────────────────────\n",
       "                                      R                                       \n",
       "                                                                              \n",
       "\n",
       "                         \n",
       "                         \n",
       "                         \n",
       "    2  4            2    \n",
       "   π ⋅n ⋅(EI + GJ_t)     \n",
       " - ────────────────── = 0\n",
       "            4            \n",
       "           R             "
      ]
     },
     "execution_count": 4,
     "metadata": {},
     "output_type": "execute_result"
    }
   ],
   "source": [
    "K_uu = diff(PE_total, u_n, u_n)\n",
    "K_up = diff(PE_total, u_n, phi_n)\n",
    "K_pp = diff(PE_total, phi_n, phi_n)\n",
    "\n",
    "buckling_criterion = Eq(K_uu*K_pp - K_up**2, 0)\n",
    "buckling_criterion"
   ]
  },
  {
   "cell_type": "markdown",
   "metadata": {},
   "source": [
    "## Solve for the critical tension\n",
    "\n",
    "The expression below is equivalent to Eqn. (24) in the paper with simplifications."
   ]
  },
  {
   "cell_type": "code",
   "execution_count": 5,
   "metadata": {
    "collapsed": false
   },
   "outputs": [],
   "source": [
    "Tcr = solve(buckling_criterion.subs(k_uu_T, ns/(2*pi*R*ls)), T)[0]"
   ]
  },
  {
   "cell_type": "code",
   "execution_count": null,
   "metadata": {
    "collapsed": true
   },
   "outputs": [],
   "source": []
  }
 ],
 "metadata": {
  "kernelspec": {
   "display_name": "Python 2",
   "language": "python",
   "name": "python2"
  },
  "language_info": {
   "codemirror_mode": {
    "name": "ipython",
    "version": 2
   },
   "file_extension": ".py",
   "mimetype": "text/x-python",
   "name": "python",
   "nbconvert_exporter": "python",
   "pygments_lexer": "ipython2",
   "version": "2.7.11"
  }
 },
 "nbformat": 4,
 "nbformat_minor": 0
}
